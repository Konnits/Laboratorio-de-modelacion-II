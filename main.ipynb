{
 "cells": [
  {
   "cell_type": "code",
   "execution_count": 1,
   "metadata": {},
   "outputs": [],
   "source": [
    "import pandas as pd\n",
    "import datetime\n",
    "import tensorflow as tf"
   ]
  },
  {
   "cell_type": "code",
   "execution_count": 2,
   "metadata": {},
   "outputs": [],
   "source": [
    "data = pd.read_excel(\"data.xlsb\")\n",
    "data[\"Fecha_Reporte\"] = data[\"Fecha_Reporte\"].apply(lambda x : pd.to_datetime(\"1899-12-30\") + datetime.timedelta(days=x))\n",
    "data[\"Fecha_Ocurrencia\"] = data[\"Fecha_Ocurrencia\"].apply(lambda x : pd.to_datetime(\"1899-12-30\") + datetime.timedelta(days=x))\n",
    "data[\"Fecha_Pago\"] = data[\"Fecha_Pago\"].apply(lambda x : pd.to_datetime(\"1899-12-30\") + datetime.timedelta(days=x))"
   ]
  },
  {
   "cell_type": "code",
   "execution_count": 17,
   "metadata": {},
   "outputs": [],
   "source": [
    "aux = data.groupby([\"Fecha_Pago\"])[\"Importe USD\"].sum().reset_index()"
   ]
  },
  {
   "cell_type": "code",
   "execution_count": 21,
   "metadata": {},
   "outputs": [],
   "source": [
    "X = aux[[\"Fecha_Pago\"]]\n",
    "y = aux[[\"Importe USD\"]]"
   ]
  },
  {
   "cell_type": "code",
   "execution_count": 23,
   "metadata": {},
   "outputs": [],
   "source": [
    "X[\"anno\"] = X[\"Fecha_Pago\"].apply(lambda x : x.year)\n",
    "X[\"Mes\"] = X[\"Fecha_Pago\"].apply(lambda x : x.month)\n",
    "X[\"Dia\"] = X[\"Fecha_Pago\"].apply(lambda x : x.day)\n",
    "X[\"Dia_Semana\"] = X[\"Fecha_Pago\"].apply(lambda x : x.weekday())"
   ]
  },
  {
   "cell_type": "code",
   "execution_count": null,
   "metadata": {},
   "outputs": [],
   "source": []
  }
 ],
 "metadata": {
  "kernelspec": {
   "display_name": "Python 3",
   "language": "python",
   "name": "python3"
  },
  "language_info": {
   "codemirror_mode": {
    "name": "ipython",
    "version": 3
   },
   "file_extension": ".py",
   "mimetype": "text/x-python",
   "name": "python",
   "nbconvert_exporter": "python",
   "pygments_lexer": "ipython3",
   "version": "3.10.0"
  },
  "orig_nbformat": 4
 },
 "nbformat": 4,
 "nbformat_minor": 2
}
