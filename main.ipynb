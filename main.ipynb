{
 "cells": [
  {
   "attachments": {},
   "cell_type": "markdown",
   "metadata": {},
   "source": [
    "# Lectura y preprocesamiento de datos"
   ]
  },
  {
   "cell_type": "code",
   "execution_count": 1,
   "metadata": {},
   "outputs": [],
   "source": [
    "import pandas as pd\n",
    "import datetime\n",
    "import numpy as np\n",
    "from IPython.display import clear_output\n",
    "\n",
    "import tensorflow as tf\n",
    "from sklearn.model_selection import train_test_split\n",
    "from sklearn.linear_model import Ridge\n",
    "from sklearn.metrics import mean_squared_error"
   ]
  },
  {
   "cell_type": "code",
   "execution_count": 2,
   "metadata": {},
   "outputs": [],
   "source": [
    "data = pd.read_excel(\"data.xlsb\")\n",
    "data[\"Fecha_Reporte\"] = data[\"Fecha_Reporte\"].apply(lambda x : pd.to_datetime(\"1899-12-30\") + datetime.timedelta(days=x))\n",
    "data[\"Fecha_Ocurrencia\"] = data[\"Fecha_Ocurrencia\"].apply(lambda x : pd.to_datetime(\"1899-12-30\") + datetime.timedelta(days=x))\n",
    "data[\"Fecha_Pago\"] = data[\"Fecha_Pago\"].apply(lambda x : pd.to_datetime(\"1899-12-30\") + datetime.timedelta(days=x))"
   ]
  },
  {
   "cell_type": "code",
   "execution_count": 3,
   "metadata": {},
   "outputs": [],
   "source": [
    "aux = data.groupby([\"Fecha_Pago\"])[\"Importe USD\"].sum().reset_index()"
   ]
  },
  {
   "cell_type": "code",
   "execution_count": 4,
   "metadata": {},
   "outputs": [],
   "source": [
    "fecha_inicial = aux[\"Fecha_Pago\"].min()\n",
    "fecha_final = aux[\"Fecha_Pago\"].max()\n",
    "\n",
    "rango_fechas = pd.date_range(fecha_inicial, fecha_final, freq=\"D\")"
   ]
  },
  {
   "cell_type": "code",
   "execution_count": 5,
   "metadata": {},
   "outputs": [],
   "source": [
    "#Si una fecha no tiene registro, se agrega con importe 0\n",
    "aux = aux.set_index(\"Fecha_Pago\")\n",
    "aux = aux.reindex(rango_fechas, fill_value = 0)\n",
    "aux = aux.reset_index(names = [\"Fecha_Pago\", \"Importe USD\"])"
   ]
  },
  {
   "cell_type": "code",
   "execution_count": 6,
   "metadata": {},
   "outputs": [],
   "source": [
    "X = aux[[\"Fecha_Pago\", \"Importe USD\"]]\n",
    "y = aux[[\"Importe USD\"]]"
   ]
  },
  {
   "cell_type": "code",
   "execution_count": 7,
   "metadata": {},
   "outputs": [],
   "source": [
    "X[\"anno\"] = X[\"Fecha_Pago\"].apply(lambda x : x.year)\n",
    "X[\"Mes\"] = X[\"Fecha_Pago\"].apply(lambda x : x.month)\n",
    "X[\"Dia\"] = X[\"Fecha_Pago\"].apply(lambda x : x.day)\n",
    "X[\"Dia_Semana\"] = X[\"Fecha_Pago\"].apply(lambda x : x.weekday())"
   ]
  },
  {
   "cell_type": "code",
   "execution_count": 8,
   "metadata": {},
   "outputs": [],
   "source": [
    "#Ahora cada uno de estos valores los transformaremos a un encoding cíclico.\n",
    "X[\"Dia_Semana_sin\"] = X[\"Dia_Semana\"].apply(lambda x : np.sin(2*np.pi*x/7))\n",
    "X[\"Dia_Semana_cos\"] = X[\"Dia_Semana\"].apply(lambda x : np.cos(2*np.pi*x/7))"
   ]
  },
  {
   "cell_type": "code",
   "execution_count": 9,
   "metadata": {},
   "outputs": [],
   "source": [
    "X[\"Mes_sin\"] = X[\"Mes\"].apply(lambda x : np.sin(2*np.pi*x/12))\n",
    "X[\"Mes_cos\"] = X[\"Mes\"].apply(lambda x : np.cos(2*np.pi*x/12))"
   ]
  },
  {
   "cell_type": "code",
   "execution_count": 10,
   "metadata": {},
   "outputs": [],
   "source": [
    "#Los días dependerán del mes, pues hay meses que tienen 30 días y otros 31, además de febrero que tiene 28 o 29.\n",
    "X[\"Dia_sin\"] = X.apply(lambda x : np.sin(2*np.pi*x[\"Dia\"]/x[\"Fecha_Pago\"].days_in_month), axis=1)\n",
    "X[\"Dia_cos\"] = X.apply(lambda x : np.cos(2*np.pi*x[\"Dia\"]/x[\"Fecha_Pago\"].days_in_month), axis=1)"
   ]
  },
  {
   "cell_type": "code",
   "execution_count": 11,
   "metadata": {},
   "outputs": [],
   "source": [
    "#El año lo estandarizamos, pero comenzando desde 0.\n",
    "X[\"anno\"] = (X[\"anno\"] - X[\"anno\"].min()) / (X[\"anno\"].max() - X[\"anno\"].min())"
   ]
  },
  {
   "cell_type": "code",
   "execution_count": 12,
   "metadata": {},
   "outputs": [],
   "source": [
    "columns = [\"anno\", \"Dia_Semana_sin\", \"Dia_Semana_cos\", \"Mes_sin\", \"Mes_cos\", \"Dia_sin\", \"Dia_cos\", \"Importe USD\"]"
   ]
  },
  {
   "cell_type": "code",
   "execution_count": 13,
   "metadata": {},
   "outputs": [],
   "source": [
    "#Normalizamos los valores de y\n",
    "y_mean = y.values.mean()\n",
    "y_std = y.values.std()\n",
    "y = (y - y_mean) / y_std\n",
    "X[\"Importe USD\"] = (X[\"Importe USD\"] - y_mean) / y_std"
   ]
  },
  {
   "cell_type": "code",
   "execution_count": 14,
   "metadata": {},
   "outputs": [],
   "source": [
    "#Creamos el X_train e y_train utilizando secuencias de un largo fijo\n",
    "sequence_length = 30\n",
    "X_train = []\n",
    "y_train = []\n",
    "\n",
    "for i in range(sequence_length, len(X)):\n",
    "    X_train.append(X.iloc[i - sequence_length : i][columns].values)\n",
    "    y_train.append(y.iloc[i])\n",
    "\n",
    "X_train = np.array(X_train)\n",
    "y_train = np.array(y_train)"
   ]
  },
  {
   "cell_type": "code",
   "execution_count": 15,
   "metadata": {},
   "outputs": [
    {
     "data": {
      "text/plain": [
       "((5071, 30, 8), (5071, 1))"
      ]
     },
     "execution_count": 15,
     "metadata": {},
     "output_type": "execute_result"
    }
   ],
   "source": [
    "X_train.shape, y_train.shape"
   ]
  },
  {
   "attachments": {},
   "cell_type": "markdown",
   "metadata": {},
   "source": [
    "# Implementación del modelo"
   ]
  },
  {
   "cell_type": "code",
   "execution_count": 16,
   "metadata": {},
   "outputs": [],
   "source": [
    "n_steps = 30\n",
    "n_features = 8"
   ]
  },
  {
   "cell_type": "code",
   "execution_count": 17,
   "metadata": {},
   "outputs": [],
   "source": [
    "def create_model(n_lstm, sequence_length = 30):\n",
    "\n",
    "    model = tf.keras.Sequential()\n",
    "    model.add(tf.keras.layers.LSTM(n_lstm, input_shape=(n_steps, n_features)))\n",
    "    model.add(tf.keras.layers.Dense(1))\n",
    "\n",
    "    model.compile(\n",
    "        optimizer = tf.keras.optimizers.Adam(learning_rate=0.001),\n",
    "        loss = tf.keras.losses.MeanSquaredError(),\n",
    "    )\n",
    "\n",
    "    return model"
   ]
  },
  {
   "cell_type": "code",
   "execution_count": 18,
   "metadata": {},
   "outputs": [
    {
     "name": "stdout",
     "output_type": "stream",
     "text": [
      "BEST LOSS: 0.15655617415905\n",
      "Iteration 16 - Loss: 0.5968172550201416\n",
      "Epoch 1/1000\n",
      "159/159 [==============================] - 3s 7ms/step - loss: 1.0099\n",
      "Epoch 2/1000\n",
      "159/159 [==============================] - 1s 6ms/step - loss: 1.0036\n",
      "Epoch 3/1000\n",
      "159/159 [==============================] - 1s 7ms/step - loss: 1.0025\n",
      "Epoch 4/1000\n",
      "159/159 [==============================] - 1s 7ms/step - loss: 1.0008\n",
      "Epoch 5/1000\n",
      "159/159 [==============================] - 1s 7ms/step - loss: 1.0001\n",
      "Epoch 6/1000\n",
      "159/159 [==============================] - 1s 8ms/step - loss: 0.9987\n",
      "Epoch 7/1000\n",
      "159/159 [==============================] - 1s 7ms/step - loss: 0.9982\n",
      "Epoch 8/1000\n",
      "159/159 [==============================] - 1s 8ms/step - loss: 0.9987\n",
      "Epoch 9/1000\n",
      "159/159 [==============================] - 1s 7ms/step - loss: 0.9971\n",
      "Epoch 10/1000\n",
      "159/159 [==============================] - 1s 7ms/step - loss: 0.9960\n",
      "Epoch 11/1000\n",
      "159/159 [==============================] - 1s 7ms/step - loss: 0.9953\n",
      "Epoch 12/1000\n",
      "159/159 [==============================] - 1s 7ms/step - loss: 0.9945\n",
      "Epoch 13/1000\n",
      "159/159 [==============================] - 1s 7ms/step - loss: 0.9939\n",
      "Epoch 14/1000\n",
      "159/159 [==============================] - 1s 7ms/step - loss: 0.9939\n",
      "Epoch 15/1000\n",
      "159/159 [==============================] - 1s 7ms/step - loss: 0.9930\n",
      "Epoch 16/1000\n",
      "159/159 [==============================] - 1s 7ms/step - loss: 0.9915\n",
      "Epoch 17/1000\n",
      "159/159 [==============================] - 1s 6ms/step - loss: 0.9910\n",
      "Epoch 18/1000\n",
      "159/159 [==============================] - 1s 7ms/step - loss: 0.9911\n",
      "Epoch 19/1000\n",
      "159/159 [==============================] - 1s 6ms/step - loss: 0.9898\n",
      "Epoch 20/1000\n",
      "159/159 [==============================] - 1s 7ms/step - loss: 0.9876\n",
      "Epoch 21/1000\n",
      "159/159 [==============================] - 1s 7ms/step - loss: 0.9873\n",
      "Epoch 22/1000\n",
      "159/159 [==============================] - 1s 7ms/step - loss: 0.9838\n",
      "Epoch 23/1000\n",
      "159/159 [==============================] - 1s 6ms/step - loss: 0.9826\n",
      "Epoch 24/1000\n",
      "159/159 [==============================] - 1s 6ms/step - loss: 0.9818\n",
      "Epoch 25/1000\n",
      "159/159 [==============================] - 1s 7ms/step - loss: 0.9749\n",
      "Epoch 26/1000\n",
      "159/159 [==============================] - 1s 6ms/step - loss: 0.9719\n",
      "Epoch 27/1000\n",
      "159/159 [==============================] - 1s 7ms/step - loss: 0.9705\n",
      "Epoch 28/1000\n",
      "159/159 [==============================] - 1s 7ms/step - loss: 0.9746\n",
      "Epoch 29/1000\n",
      "159/159 [==============================] - 1s 7ms/step - loss: 0.9646\n",
      "Epoch 30/1000\n",
      "159/159 [==============================] - 1s 6ms/step - loss: 0.9584\n",
      "Epoch 31/1000\n",
      "159/159 [==============================] - 1s 6ms/step - loss: 0.9549\n",
      "Epoch 32/1000\n",
      "159/159 [==============================] - 1s 6ms/step - loss: 0.9505\n",
      "Epoch 33/1000\n",
      "159/159 [==============================] - 1s 6ms/step - loss: 0.9502\n",
      "Epoch 34/1000\n",
      "159/159 [==============================] - 1s 6ms/step - loss: 0.9759\n",
      "Epoch 35/1000\n",
      "159/159 [==============================] - 1s 7ms/step - loss: 0.9396\n",
      "Epoch 36/1000\n",
      "159/159 [==============================] - 1s 7ms/step - loss: 0.9334\n",
      "Epoch 37/1000\n",
      "159/159 [==============================] - 1s 6ms/step - loss: 0.9367\n",
      "Epoch 38/1000\n",
      "159/159 [==============================] - 1s 7ms/step - loss: 0.9296\n",
      "Epoch 39/1000\n",
      "159/159 [==============================] - 1s 6ms/step - loss: 0.9396\n",
      "Epoch 40/1000\n",
      "159/159 [==============================] - 1s 7ms/step - loss: 0.9264\n",
      "Epoch 41/1000\n",
      "159/159 [==============================] - 1s 6ms/step - loss: 0.9138\n",
      "Epoch 42/1000\n",
      "159/159 [==============================] - 1s 7ms/step - loss: 0.9313\n",
      "Epoch 43/1000\n",
      "159/159 [==============================] - 1s 6ms/step - loss: 0.9141\n",
      "Epoch 44/1000\n",
      "159/159 [==============================] - 1s 7ms/step - loss: 0.9009\n",
      "Epoch 45/1000\n",
      "159/159 [==============================] - 1s 6ms/step - loss: 0.8842\n",
      "Epoch 46/1000\n",
      "159/159 [==============================] - 1s 6ms/step - loss: 0.9020\n",
      "Epoch 47/1000\n",
      "159/159 [==============================] - 1s 7ms/step - loss: 0.8896\n",
      "Epoch 48/1000\n",
      "159/159 [==============================] - 1s 7ms/step - loss: 0.8842\n",
      "Epoch 49/1000\n",
      "159/159 [==============================] - 1s 7ms/step - loss: 0.8627\n",
      "Epoch 50/1000\n",
      "159/159 [==============================] - 1s 7ms/step - loss: 0.8574\n",
      "Epoch 51/1000\n",
      "159/159 [==============================] - 1s 7ms/step - loss: 0.8972\n",
      "Epoch 52/1000\n",
      "159/159 [==============================] - 1s 7ms/step - loss: 0.9191\n",
      "Epoch 53/1000\n",
      "159/159 [==============================] - 1s 6ms/step - loss: 0.8414\n",
      "Epoch 54/1000\n",
      "159/159 [==============================] - 1s 7ms/step - loss: 0.8474\n",
      "Epoch 55/1000\n",
      "159/159 [==============================] - 1s 7ms/step - loss: 0.8322\n",
      "Epoch 56/1000\n",
      "159/159 [==============================] - 1s 7ms/step - loss: 0.9050\n",
      "Epoch 57/1000\n",
      "159/159 [==============================] - 1s 7ms/step - loss: 0.8903\n",
      "Epoch 58/1000\n",
      "159/159 [==============================] - 1s 7ms/step - loss: 0.8808\n",
      "Epoch 59/1000\n",
      "159/159 [==============================] - 1s 7ms/step - loss: 0.8330\n",
      "Epoch 60/1000\n",
      "159/159 [==============================] - 1s 7ms/step - loss: 0.8153\n",
      "Epoch 61/1000\n",
      "159/159 [==============================] - 1s 7ms/step - loss: 0.8103\n",
      "Epoch 62/1000\n",
      "159/159 [==============================] - 1s 7ms/step - loss: 0.7957\n",
      "Epoch 63/1000\n",
      "159/159 [==============================] - 1s 6ms/step - loss: 0.7935\n",
      "Epoch 64/1000\n",
      "159/159 [==============================] - 1s 7ms/step - loss: 0.8321\n",
      "Epoch 65/1000\n",
      "159/159 [==============================] - 1s 7ms/step - loss: 0.7964\n",
      "Epoch 66/1000\n",
      "159/159 [==============================] - 1s 7ms/step - loss: 0.7831\n",
      "Epoch 67/1000\n",
      "159/159 [==============================] - 1s 7ms/step - loss: 0.7709\n",
      "Epoch 68/1000\n",
      "159/159 [==============================] - 1s 6ms/step - loss: 0.7615\n",
      "Epoch 69/1000\n",
      "159/159 [==============================] - 1s 7ms/step - loss: 0.7539\n",
      "Epoch 70/1000\n",
      "159/159 [==============================] - 1s 7ms/step - loss: 0.7871\n",
      "Epoch 71/1000\n",
      "159/159 [==============================] - 1s 7ms/step - loss: 0.8410\n",
      "Epoch 72/1000\n",
      "159/159 [==============================] - 1s 6ms/step - loss: 0.8437\n",
      "Epoch 73/1000\n",
      "159/159 [==============================] - 1s 6ms/step - loss: 0.7734\n",
      "Epoch 74/1000\n",
      "159/159 [==============================] - 1s 6ms/step - loss: 0.7502\n",
      "Epoch 75/1000\n",
      "159/159 [==============================] - 1s 6ms/step - loss: 0.7419\n",
      "Epoch 76/1000\n",
      "159/159 [==============================] - 1s 6ms/step - loss: 0.7373\n",
      "Epoch 77/1000\n",
      "159/159 [==============================] - 1s 7ms/step - loss: 0.7303\n",
      "Epoch 78/1000\n",
      "159/159 [==============================] - 1s 6ms/step - loss: 0.7244\n",
      "Epoch 79/1000\n",
      "159/159 [==============================] - 1s 6ms/step - loss: 0.7190\n",
      "Epoch 80/1000\n",
      "159/159 [==============================] - 1s 7ms/step - loss: 0.7181\n",
      "Epoch 81/1000\n",
      "159/159 [==============================] - 1s 7ms/step - loss: 0.7251\n",
      "Epoch 82/1000\n",
      "159/159 [==============================] - 1s 6ms/step - loss: 0.7183\n",
      "Epoch 83/1000\n",
      "159/159 [==============================] - 1s 6ms/step - loss: 0.6995\n",
      "Epoch 84/1000\n",
      "159/159 [==============================] - 1s 6ms/step - loss: 0.6949\n",
      "Epoch 85/1000\n",
      "159/159 [==============================] - 1s 6ms/step - loss: 0.6915\n",
      "Epoch 86/1000\n",
      "159/159 [==============================] - 1s 7ms/step - loss: 0.6979\n",
      "Epoch 87/1000\n",
      "159/159 [==============================] - 1s 7ms/step - loss: 0.6949\n",
      "Epoch 88/1000\n",
      "159/159 [==============================] - 1s 7ms/step - loss: 0.7133\n",
      "Epoch 89/1000\n",
      "159/159 [==============================] - 1s 8ms/step - loss: 0.9702\n",
      "Epoch 90/1000\n",
      "159/159 [==============================] - 1s 7ms/step - loss: 0.7283\n",
      "Epoch 91/1000\n",
      "159/159 [==============================] - 1s 7ms/step - loss: 0.6782\n",
      "Epoch 92/1000\n",
      "159/159 [==============================] - 1s 7ms/step - loss: 0.6676\n",
      "Epoch 93/1000\n",
      "159/159 [==============================] - 1s 7ms/step - loss: 0.6608\n",
      "Epoch 94/1000\n",
      "159/159 [==============================] - 1s 7ms/step - loss: 0.6523\n",
      "Epoch 95/1000\n",
      "159/159 [==============================] - 1s 7ms/step - loss: 0.9155\n",
      "Epoch 96/1000\n",
      "159/159 [==============================] - 1s 6ms/step - loss: 0.7206\n",
      "Epoch 97/1000\n",
      "159/159 [==============================] - 1s 7ms/step - loss: 0.7544\n",
      "Epoch 98/1000\n",
      "121/159 [=====================>........] - ETA: 0s - loss: 0.3593"
     ]
    }
   ],
   "source": [
    "best_model = None\n",
    "best_loss = float(\"inf\")\n",
    "loss = float(\"inf\")\n",
    "\n",
    "sizes = [8, 16, 32, 64, 128]\n",
    "\n",
    "for i in range(20):\n",
    "\n",
    "    print(f\"BEST LOSS: {best_loss}\")\n",
    "    print(f\"Iteration {i} - Loss: {loss}\")\n",
    "\n",
    "    model = create_model(sizes[i % len(sizes)])\n",
    "    model.fit(X_train, y_train, epochs = 1000, batch_size = 32, callbacks = [tf.keras.callbacks.EarlyStopping(\"loss\", patience = 10, restore_best_weights = True)])\n",
    "\n",
    "    loss = model.evaluate(X_train, y_train, verbose = 0)\n",
    "\n",
    "    if loss < best_loss:\n",
    "        best_model = model\n",
    "        best_loss = loss\n",
    "\n",
    "    clear_output(wait=True)"
   ]
  },
  {
   "cell_type": "code",
   "execution_count": null,
   "metadata": {},
   "outputs": [
    {
     "name": "stdout",
     "output_type": "stream",
     "text": [
      "Model: \"sequential_13\"\n",
      "_________________________________________________________________\n",
      " Layer (type)                Output Shape              Param #   \n",
      "=================================================================\n",
      " lstm_13 (LSTM)              (None, 64)                18688     \n",
      "                                                                 \n",
      " dense_13 (Dense)            (None, 1)                 65        \n",
      "                                                                 \n",
      "=================================================================\n",
      "Total params: 18,753\n",
      "Trainable params: 18,753\n",
      "Non-trainable params: 0\n",
      "_________________________________________________________________\n"
     ]
    }
   ],
   "source": [
    "best_model.summary()"
   ]
  },
  {
   "cell_type": "code",
   "execution_count": null,
   "metadata": {},
   "outputs": [
    {
     "name": "stderr",
     "output_type": "stream",
     "text": [
      "WARNING:absl:Found untraced functions such as lstm_cell_13_layer_call_fn, lstm_cell_13_layer_call_and_return_conditional_losses while saving (showing 2 of 2). These functions will not be directly callable after loading.\n"
     ]
    },
    {
     "name": "stdout",
     "output_type": "stream",
     "text": [
      "INFO:tensorflow:Assets written to: ram://9998df7e-4c31-4766-b2cf-62ce4b01bb15/assets\n"
     ]
    },
    {
     "name": "stderr",
     "output_type": "stream",
     "text": [
      "INFO:tensorflow:Assets written to: ram://9998df7e-4c31-4766-b2cf-62ce4b01bb15/assets\n"
     ]
    }
   ],
   "source": [
    "best_model.save(\"model_lstm_64.h5\")"
   ]
  }
 ],
 "metadata": {
  "kernelspec": {
   "display_name": "Python 3",
   "language": "python",
   "name": "python3"
  },
  "language_info": {
   "codemirror_mode": {
    "name": "ipython",
    "version": 3
   },
   "file_extension": ".py",
   "mimetype": "text/x-python",
   "name": "python",
   "nbconvert_exporter": "python",
   "pygments_lexer": "ipython3",
   "version": "3.10.0"
  },
  "orig_nbformat": 4
 },
 "nbformat": 4,
 "nbformat_minor": 2
}
