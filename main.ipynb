{
 "cells": [
  {
   "attachments": {},
   "cell_type": "markdown",
   "metadata": {},
   "source": [
    "# Lectura y preprocesamiento de datos"
   ]
  },
  {
   "cell_type": "code",
   "execution_count": 98,
   "metadata": {},
   "outputs": [],
   "source": [
    "import pandas as pd\n",
    "import datetime\n",
    "import numpy as np\n",
    "from IPython.display import clear_output\n",
    "\n",
    "import tensorflow as tf"
   ]
  },
  {
   "cell_type": "code",
   "execution_count": 2,
   "metadata": {},
   "outputs": [],
   "source": [
    "data = pd.read_excel(\"data.xlsb\")\n",
    "data[\"Fecha_Reporte\"] = data[\"Fecha_Reporte\"].apply(lambda x : pd.to_datetime(\"1899-12-30\") + datetime.timedelta(days=x))\n",
    "data[\"Fecha_Ocurrencia\"] = data[\"Fecha_Ocurrencia\"].apply(lambda x : pd.to_datetime(\"1899-12-30\") + datetime.timedelta(days=x))\n",
    "data[\"Fecha_Pago\"] = data[\"Fecha_Pago\"].apply(lambda x : pd.to_datetime(\"1899-12-30\") + datetime.timedelta(days=x))"
   ]
  },
  {
   "cell_type": "code",
   "execution_count": 65,
   "metadata": {},
   "outputs": [],
   "source": [
    "aux = data.groupby([\"Fecha_Pago\"])[\"Importe USD\"].sum().reset_index()"
   ]
  },
  {
   "cell_type": "code",
   "execution_count": 66,
   "metadata": {},
   "outputs": [],
   "source": [
    "fecha_inicial = aux[\"Fecha_Pago\"].min()\n",
    "fecha_final = aux[\"Fecha_Pago\"].max()\n",
    "\n",
    "rango_fechas = pd.date_range(fecha_inicial, fecha_final, freq=\"D\")"
   ]
  },
  {
   "cell_type": "code",
   "execution_count": 67,
   "metadata": {},
   "outputs": [],
   "source": [
    "#Si una fecha no tiene registro, se agrega con importe 0\n",
    "aux = aux.set_index(\"Fecha_Pago\")\n",
    "aux = aux.reindex(rango_fechas, fill_value = 0)\n",
    "aux = aux.reset_index(names = [\"Fecha_Pago\", \"Importe USD\"])"
   ]
  },
  {
   "cell_type": "code",
   "execution_count": 69,
   "metadata": {},
   "outputs": [],
   "source": [
    "X = aux[[\"Fecha_Pago\"]]\n",
    "y = aux[[\"Importe USD\"]]"
   ]
  },
  {
   "cell_type": "code",
   "execution_count": 70,
   "metadata": {},
   "outputs": [],
   "source": [
    "X[\"anno\"] = X[\"Fecha_Pago\"].apply(lambda x : x.year)\n",
    "X[\"Mes\"] = X[\"Fecha_Pago\"].apply(lambda x : x.month)\n",
    "X[\"Dia\"] = X[\"Fecha_Pago\"].apply(lambda x : x.day)\n",
    "X[\"Dia_Semana\"] = X[\"Fecha_Pago\"].apply(lambda x : x.weekday())"
   ]
  },
  {
   "cell_type": "code",
   "execution_count": 71,
   "metadata": {},
   "outputs": [],
   "source": [
    "#Ahora cada uno de estos valores los transformaremos a un encoding cíclico.\n",
    "X[\"Dia_Semana_sin\"] = X[\"Dia_Semana\"].apply(lambda x : np.sin(2*np.pi*x/7))\n",
    "X[\"Dia_Semana_cos\"] = X[\"Dia_Semana\"].apply(lambda x : np.cos(2*np.pi*x/7))"
   ]
  },
  {
   "cell_type": "code",
   "execution_count": 72,
   "metadata": {},
   "outputs": [],
   "source": [
    "X[\"Mes_sin\"] = X[\"Mes\"].apply(lambda x : np.sin(2*np.pi*x/12))\n",
    "X[\"Mes_cos\"] = X[\"Mes\"].apply(lambda x : np.cos(2*np.pi*x/12))"
   ]
  },
  {
   "cell_type": "code",
   "execution_count": 73,
   "metadata": {},
   "outputs": [],
   "source": [
    "#Los días dependerán del mes, pues hay meses que tienen 30 días y otros 31, además de febrero que tiene 28 o 29.\n",
    "X[\"Dia_sin\"] = X.apply(lambda x : np.sin(2*np.pi*x[\"Dia\"]/x[\"Fecha_Pago\"].days_in_month), axis=1)\n",
    "X[\"Dia_cos\"] = X.apply(lambda x : np.cos(2*np.pi*x[\"Dia\"]/x[\"Fecha_Pago\"].days_in_month), axis=1)"
   ]
  },
  {
   "cell_type": "code",
   "execution_count": 74,
   "metadata": {},
   "outputs": [],
   "source": [
    "#El año lo estandarizamos, pero comenzando desde 0.\n",
    "X[\"anno\"] = (X[\"anno\"] - X[\"anno\"].min()) / (X[\"anno\"].max() - X[\"anno\"].min())"
   ]
  },
  {
   "cell_type": "code",
   "execution_count": 75,
   "metadata": {},
   "outputs": [],
   "source": [
    "columns = [\"anno\", \"Dia_Semana_sin\", \"Dia_Semana_cos\", \"Mes_sin\", \"Mes_cos\", \"Dia_sin\", \"Dia_cos\"]"
   ]
  },
  {
   "cell_type": "code",
   "execution_count": 79,
   "metadata": {},
   "outputs": [],
   "source": [
    "#Normalizamos los valores de y\n",
    "y = (y.values - y.values.mean()) / y.values.std()"
   ]
  },
  {
   "cell_type": "code",
   "execution_count": 86,
   "metadata": {},
   "outputs": [],
   "source": [
    "#Creamos el X_train e y_train utilizando secuencias de un largo fijo\n",
    "sequence_length = 30\n",
    "X_train = []\n",
    "y_train = []\n",
    "\n",
    "for i in range(sequence_length, len(X)):\n",
    "    X_train.append(X.iloc[i-sequence_length:i][columns].values)\n",
    "    y_train.append(y.iloc[i])\n",
    "\n",
    "X_train = np.array(X_train)\n",
    "y_train = np.array(y_train)"
   ]
  },
  {
   "cell_type": "code",
   "execution_count": 88,
   "metadata": {},
   "outputs": [
    {
     "data": {
      "text/plain": [
       "((5071, 30, 7), (5071, 1))"
      ]
     },
     "execution_count": 88,
     "metadata": {},
     "output_type": "execute_result"
    }
   ],
   "source": [
    "X_train.shape, y_train.shape"
   ]
  },
  {
   "attachments": {},
   "cell_type": "markdown",
   "metadata": {},
   "source": [
    "# Implementación del modelo"
   ]
  },
  {
   "cell_type": "code",
   "execution_count": 105,
   "metadata": {},
   "outputs": [],
   "source": [
    "def create_model(sequence_length = 30):\n",
    "    #This is a transformer model\n",
    "\n",
    "    input_layer = tf.keras.layers.Input(shape=(sequence_length, 7))\n",
    "\n",
    "    #Encoder\n",
    "    encoder = tf.keras.layers.LSTM(128, return_sequences=True)(input_layer)\n",
    "    encoder = tf.keras.layers.Dropout(0.3)(encoder)\n",
    "    encoder = tf.keras.layers.LSTM(128, return_sequences=True)(encoder)\n",
    "    encoder = tf.keras.layers.Dropout(0.3)(encoder)\n",
    "    encoder = tf.keras.layers.LSTM(128, return_sequences=False)(encoder)\n",
    "    encoder = tf.keras.layers.Dropout(0.3)(encoder)\n",
    "\n",
    "    #Decoder\n",
    "    decoder = tf.keras.layers.RepeatVector(sequence_length)(encoder)\n",
    "    decoder = tf.keras.layers.LSTM(128, return_sequences=True)(decoder)\n",
    "    decoder = tf.keras.layers.Dropout(0.3)(decoder)\n",
    "    decoder = tf.keras.layers.LSTM(128, return_sequences=True)(decoder)\n",
    "    decoder = tf.keras.layers.Dropout(0.3)(decoder)\n",
    "    decoder = tf.keras.layers.LSTM(128, return_sequences=True)(decoder)\n",
    "    decoder = tf.keras.layers.Dropout(0.3)(decoder)\n",
    "\n",
    "    output_layer = tf.keras.layers.TimeDistributed(tf.keras.layers.Dense(1))(decoder)\n",
    "\n",
    "    model = tf.keras.models.Model(inputs=input_layer, outputs=output_layer)\n",
    "\n",
    "    model.compile(loss=\"mse\", optimizer=\"adam\")\n",
    "\n",
    "    return model"
   ]
  },
  {
   "cell_type": "code",
   "execution_count": 106,
   "metadata": {},
   "outputs": [
    {
     "name": "stdout",
     "output_type": "stream",
     "text": [
      "BEST LOSS: inf\n",
      "Iteration 0 - Loss: inf\n",
      "Epoch 1/1000\n",
      "159/159 [==============================] - 11s 28ms/step - loss: 13442531328.0000\n",
      "Epoch 2/1000\n",
      "159/159 [==============================] - 4s 27ms/step - loss: 13442222080.0000\n",
      "Epoch 3/1000\n",
      "159/159 [==============================] - 4s 26ms/step - loss: 13441980416.0000\n",
      "Epoch 4/1000\n",
      "159/159 [==============================] - 4s 27ms/step - loss: 13441757184.0000\n",
      "Epoch 5/1000\n",
      "159/159 [==============================] - 4s 26ms/step - loss: 13441530880.0000\n",
      "Epoch 6/1000\n",
      "159/159 [==============================] - 4s 27ms/step - loss: 13441315840.0000\n",
      "Epoch 7/1000\n",
      "159/159 [==============================] - 4s 27ms/step - loss: 13441105920.0000\n",
      "Epoch 8/1000\n",
      "159/159 [==============================] - 4s 27ms/step - loss: 13440897024.0000\n",
      "Epoch 9/1000\n",
      "159/159 [==============================] - 4s 27ms/step - loss: 13440680960.0000\n",
      "Epoch 10/1000\n",
      "159/159 [==============================] - 4s 27ms/step - loss: 13440479232.0000\n",
      "Epoch 11/1000\n",
      "159/159 [==============================] - 4s 26ms/step - loss: 13440264192.0000\n",
      "Epoch 12/1000\n",
      "159/159 [==============================] - 4s 27ms/step - loss: 13440035840.0000\n",
      "Epoch 13/1000\n",
      "159/159 [==============================] - 4s 27ms/step - loss: 13439822848.0000\n",
      "Epoch 14/1000\n",
      "159/159 [==============================] - 4s 27ms/step - loss: 13439610880.0000\n",
      "Epoch 15/1000\n",
      "159/159 [==============================] - 4s 27ms/step - loss: 13439408128.0000\n",
      "Epoch 16/1000\n",
      "159/159 [==============================] - 4s 27ms/step - loss: 13439218688.0000\n",
      "Epoch 17/1000\n",
      "159/159 [==============================] - 4s 26ms/step - loss: 13438999552.0000\n",
      "Epoch 18/1000\n",
      "159/159 [==============================] - 4s 27ms/step - loss: 13438796800.0000\n",
      "Epoch 19/1000\n",
      "159/159 [==============================] - 4s 28ms/step - loss: 13438583808.0000\n",
      "Epoch 20/1000\n",
      "159/159 [==============================] - 4s 28ms/step - loss: 13438384128.0000\n",
      "Epoch 21/1000\n",
      "159/159 [==============================] - 4s 27ms/step - loss: 13438202880.0000\n",
      "Epoch 22/1000\n",
      "159/159 [==============================] - 4s 27ms/step - loss: 13437992960.0000\n",
      "Epoch 23/1000\n",
      "159/159 [==============================] - 4s 27ms/step - loss: 13437797376.0000\n",
      "Epoch 24/1000\n",
      "159/159 [==============================] - 4s 28ms/step - loss: 13437604864.0000\n",
      "Epoch 25/1000\n",
      "159/159 [==============================] - 4s 28ms/step - loss: 13437371392.0000\n",
      "Epoch 26/1000\n",
      "159/159 [==============================] - 4s 28ms/step - loss: 13437166592.0000\n",
      "Epoch 27/1000\n",
      "159/159 [==============================] - 4s 28ms/step - loss: 13436976128.0000\n",
      "Epoch 28/1000\n",
      "159/159 [==============================] - 4s 28ms/step - loss: 13436786688.0000\n",
      "Epoch 29/1000\n",
      "159/159 [==============================] - 4s 28ms/step - loss: 13436561408.0000\n",
      "Epoch 30/1000\n",
      "159/159 [==============================] - 4s 28ms/step - loss: 13436372992.0000\n",
      "Epoch 31/1000\n",
      "159/159 [==============================] - 4s 28ms/step - loss: 13436181504.0000\n",
      "Epoch 32/1000\n",
      "159/159 [==============================] - 4s 27ms/step - loss: 13435980800.0000\n",
      "Epoch 33/1000\n",
      "159/159 [==============================] - 4s 27ms/step - loss: 13435774976.0000\n",
      "Epoch 34/1000\n",
      "159/159 [==============================] - 5s 29ms/step - loss: 13435577344.0000\n",
      "Epoch 35/1000\n",
      "159/159 [==============================] - 4s 28ms/step - loss: 13435385856.0000\n",
      "Epoch 36/1000\n",
      "159/159 [==============================] - 4s 26ms/step - loss: 13435181056.0000\n",
      "Epoch 37/1000\n",
      "159/159 [==============================] - 4s 28ms/step - loss: 13434992640.0000\n",
      "Epoch 38/1000\n",
      " 69/159 [============>.................] - ETA: 2s - loss: 6084577792.0000"
     ]
    }
   ],
   "source": [
    "best_model = None\n",
    "best_loss = float(\"inf\")\n",
    "loss = float(\"inf\")\n",
    "\n",
    "for i in range(20):\n",
    "\n",
    "    print(f\"BEST LOSS: {best_loss}\")\n",
    "    print(f\"Iteration {i} - Loss: {loss}\")\n",
    "\n",
    "    model = create_model()\n",
    "    model.fit(X_train, y_train, epochs = 1000, batch_size = 32)\n",
    "\n",
    "    loss = model.evaluate(X_train, y_train, verbose=0)\n",
    "\n",
    "    if loss < best_loss:\n",
    "        best_model = model\n",
    "        best_loss = loss\n",
    "\n",
    "    clear_output(wait=True)"
   ]
  }
 ],
 "metadata": {
  "kernelspec": {
   "display_name": "Python 3",
   "language": "python",
   "name": "python3"
  },
  "language_info": {
   "codemirror_mode": {
    "name": "ipython",
    "version": 3
   },
   "file_extension": ".py",
   "mimetype": "text/x-python",
   "name": "python",
   "nbconvert_exporter": "python",
   "pygments_lexer": "ipython3",
   "version": "3.10.0"
  },
  "orig_nbformat": 4
 },
 "nbformat": 4,
 "nbformat_minor": 2
}
